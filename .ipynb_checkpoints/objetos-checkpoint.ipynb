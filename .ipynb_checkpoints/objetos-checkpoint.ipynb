{
 "cells": [
  {
   "cell_type": "code",
   "execution_count": 21,
   "metadata": {},
   "outputs": [
    {
     "name": "stdout",
     "output_type": "stream",
     "text": [
      "0\n",
      "1\n",
      "2\n",
      "3\n",
      "4\n",
      "5\n",
      "6\n",
      "7\n",
      "8\n",
      "9\n",
      "10\n"
     ]
    }
   ],
   "source": [
    "x = 0;\n",
    "while (x  <= 10):\n",
    "    print(x)\n",
    "    x = x + 1"
   ]
  },
  {
   "cell_type": "code",
   "execution_count": 33,
   "metadata": {},
   "outputs": [
    {
     "name": "stdin",
     "output_type": "stream",
     "text": [
      "Dugite um número:  10\n",
      "Dugite um número:  10\n",
      "Dugite um número:  10\n"
     ]
    }
   ],
   "source": [
    "numero_secreto = 10;\n",
    "numero_tentativas = 3;\n",
    "while (numero_tentativas > 0):\n",
    "    chute= int(input(\"Dugite um número: \"))\n",
    "    \n",
    "    acertou = chute == numero_secreto;\n",
    "    maior = chute > numero_secreto;\n",
    "    menor = chute < numero_secreto;\n",
    "    \n",
    "    if(acertou):\n",
    "        print('Parabéns, você acerto!')\n",
    "        break\n",
    "    elif(maior):\n",
    "        print('Erroooo! o número digitado foi maior');\n",
    "    elif(menor):\n",
    "        print('Erroooo! o número digitado foi menor')\n",
    "    numero_tentativas = numero_tentativas - 1\n",
    "        "
   ]
  },
  {
   "cell_type": "code",
   "execution_count": null,
   "metadata": {},
   "outputs": [],
   "source": []
  }
 ],
 "metadata": {
  "kernelspec": {
   "display_name": "Python 3",
   "language": "python",
   "name": "python3"
  },
  "language_info": {
   "codemirror_mode": {
    "name": "ipython",
    "version": 3
   },
   "file_extension": ".py",
   "mimetype": "text/x-python",
   "name": "python",
   "nbconvert_exporter": "python",
   "pygments_lexer": "ipython3",
   "version": "3.8.5"
  }
 },
 "nbformat": 4,
 "nbformat_minor": 4
}
