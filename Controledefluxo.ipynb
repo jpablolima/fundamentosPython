{
 "cells": [
  {
   "cell_type": "code",
   "execution_count": 15,
   "metadata": {},
   "outputs": [
    {
     "name": "stdin",
     "output_type": "stream",
     "text": [
      "Digite uma temperatura desejada:  40\n"
     ]
    },
    {
     "name": "stdout",
     "output_type": "stream",
     "text": [
      "queimando\n"
     ]
    }
   ],
   "source": [
    "temp = int(input(\"Digite uma temperatura desejada: \"))\n",
    "\n",
    "if (temp < 0):\n",
    "    print('congelando')\n",
    "elif( temp == 0 <=20):\n",
    "    print(\"frio\")\n",
    "elif( 21 <= temp <=29):\n",
    "    print('Temperatura boa')\n",
    "elif(29 <= temp <= 35):\n",
    "    print('Quente')\n",
    "else:\n",
    "    print('queimando')"
   ]
  },
  {
   "cell_type": "code",
   "execution_count": null,
   "metadata": {},
   "outputs": [],
   "source": []
  }
 ],
 "metadata": {
  "kernelspec": {
   "display_name": "Python 3",
   "language": "python",
   "name": "python3"
  },
  "language_info": {
   "codemirror_mode": {
    "name": "ipython",
    "version": 3
   },
   "file_extension": ".py",
   "mimetype": "text/x-python",
   "name": "python",
   "nbconvert_exporter": "python",
   "pygments_lexer": "ipython3",
   "version": "3.8.5"
  }
 },
 "nbformat": 4,
 "nbformat_minor": 4
}
